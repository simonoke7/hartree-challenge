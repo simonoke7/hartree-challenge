{
 "cells": [
  {
   "cell_type": "code",
   "execution_count": 1,
   "id": "a6467098-6b75-45a8-bf59-2531b6b340ab",
   "metadata": {},
   "outputs": [],
   "source": [
    "# import required modules\n",
    "import apache_beam as beam\n",
    "import apache_beam.runners.interactive.interactive_beam as ib\n",
    "from apache_beam.runners.interactive.interactive_runner import InteractiveRunner\n",
    "\n",
    "import numpy as np"
   ]
  },
  {
   "cell_type": "code",
   "execution_count": 2,
   "id": "4902d58b-cb50-4ae6-829a-61c00949a2fc",
   "metadata": {},
   "outputs": [],
   "source": [
    "# use InteractiveRunner to iteratively develop pipelines in a notebook environment\n",
    "p = beam.Pipeline(InteractiveRunner()) # create pipeline object"
   ]
  },
  {
   "cell_type": "code",
   "execution_count": 3,
   "id": "d61fead2-1b15-4832-bf91-5ea663438442",
   "metadata": {},
   "outputs": [
    {
     "name": "stderr",
     "output_type": "stream",
     "text": [
      "WARNING:apache_beam.runners.interactive.interactive_environment:Dependencies required for Interactive Beam PCollection visualization are not available, please use: `pip install apache-beam[interactive]` to install necessary dependencies to enable all data visualization features.\n"
     ]
    },
    {
     "data": {
      "application/javascript": [
       "\n",
       "        if (typeof window.interactive_beam_jquery == 'undefined') {\n",
       "          var jqueryScript = document.createElement('script');\n",
       "          jqueryScript.src = 'https://code.jquery.com/jquery-3.4.1.slim.min.js';\n",
       "          jqueryScript.type = 'text/javascript';\n",
       "          jqueryScript.onload = function() {\n",
       "            var datatableScript = document.createElement('script');\n",
       "            datatableScript.src = 'https://cdn.datatables.net/1.10.20/js/jquery.dataTables.min.js';\n",
       "            datatableScript.type = 'text/javascript';\n",
       "            datatableScript.onload = function() {\n",
       "              window.interactive_beam_jquery = jQuery.noConflict(true);\n",
       "              window.interactive_beam_jquery(document).ready(function($){\n",
       "                \n",
       "              });\n",
       "            }\n",
       "            document.head.appendChild(datatableScript);\n",
       "          };\n",
       "          document.head.appendChild(jqueryScript);\n",
       "        } else {\n",
       "          window.interactive_beam_jquery(document).ready(function($){\n",
       "            \n",
       "          });\n",
       "        }"
      ]
     },
     "metadata": {},
     "output_type": "display_data"
    },
    {
     "data": {
      "text/plain": [
       "invoice_id        int64\n",
       "legal_entity     object\n",
       "counter_party    object\n",
       "rating            int64\n",
       "status           object\n",
       "value             int64\n",
       "dtype: object"
      ]
     },
     "execution_count": 3,
     "metadata": {},
     "output_type": "execute_result"
    }
   ],
   "source": [
    "# read input invoice file\n",
    "invoice_df = p | beam.dataframe.io.read_csv('dataset1.csv')\n",
    "invoice_df.dtypes"
   ]
  },
  {
   "cell_type": "code",
   "execution_count": 4,
   "id": "b6eee36e-5bff-435c-a490-230738b855a4",
   "metadata": {},
   "outputs": [
    {
     "data": {
      "text/plain": [
       "counter_party    object\n",
       "tier              int64\n",
       "dtype: object"
      ]
     },
     "execution_count": 4,
     "metadata": {},
     "output_type": "execute_result"
    }
   ],
   "source": [
    "# read input counterparty file\n",
    "counter_party_df = p | beam.dataframe.io.read_csv('dataset2.csv')\n",
    "counter_party_df.dtypes"
   ]
  },
  {
   "cell_type": "code",
   "execution_count": 5,
   "id": "f6271689-6f69-484b-9c2d-39acad69c839",
   "metadata": {},
   "outputs": [],
   "source": [
    "# join invoice and counterparty datasets\n",
    "joined_df = invoice_df.join(counter_party_df.set_index('counter_party'),on='counter_party')\n",
    "# ib.collect(joined_df).sort_index() # materialise beam dataframe as pandas dataframe"
   ]
  },
  {
   "cell_type": "code",
   "execution_count": 6,
   "id": "6dfdf307-2cef-436b-a18d-6f45eb96e4b3",
   "metadata": {},
   "outputs": [],
   "source": [
    " # calculate max rating per category\n",
    "max_rating_counterparty = joined_df.rating.groupby(joined_df.counter_party).max()\n",
    "max_rating_counterparty = max_rating_counterparty.rename('max_rating_counter_party') # rename column\n",
    "# ib.collect(max_rating_counterparty).sort_index()"
   ]
  },
  {
   "cell_type": "code",
   "execution_count": 7,
   "id": "e0cd1ef8-598c-42cb-a4c2-62bf12e6475c",
   "metadata": {},
   "outputs": [],
   "source": [
    "# add column max_rating_counter_party to joined_df\n",
    "joined_df = joined_df.join(max_rating_counterparty,on='counter_party')\n",
    "joined_df['total'] = 'Total' # create column to calculate grand totals\n",
    "# ib.collect(joined_df).sort_index()"
   ]
  },
  {
   "cell_type": "code",
   "execution_count": 8,
   "id": "607f4240-287d-4198-86cf-43e4083a80bb",
   "metadata": {},
   "outputs": [],
   "source": [
    "# produce calculated values for all attributes\n",
    "all_max_rating = joined_df.groupby(['legal_entity','counter_party','tier'])['max_rating_counter_party'].max()\n",
    "all_sum_arap = joined_df.loc[joined_df.status=='ARAP'].groupby(['legal_entity','counter_party','tier'])['value'].sum().rename('total_sum_arap')\n",
    "all_sum_accr = joined_df.loc[joined_df.status=='ACCR'].groupby(['legal_entity','counter_party','tier'])['value'].sum().rename('total_sum_accr')\n",
    "# ib.collect(all_sum_arap).sort_index()"
   ]
  },
  {
   "cell_type": "code",
   "execution_count": 9,
   "id": "ced8d1af-0082-4886-9a6c-c4b6ff577961",
   "metadata": {},
   "outputs": [],
   "source": [
    "# dataframe with distinct combinations of all attributes\n",
    "all_agg_df = joined_df[['legal_entity','counter_party','tier']].drop_duplicates(keep='any')\n",
    "# join calculated values to dataframe of all attributes\n",
    "all_agg_df = all_agg_df.join(all_max_rating,on=['legal_entity','counter_party','tier'])\n",
    "all_agg_df = all_agg_df.join(all_sum_arap,on=['legal_entity','counter_party','tier'])\n",
    "all_agg_df = all_agg_df.join(all_sum_accr,on=['legal_entity','counter_party','tier'])\n",
    "all_agg_df = all_agg_df.replace(np.nan, 0) # impute NaNs with 0\n",
    "# ib.collect(all_agg_df).sort_index()"
   ]
  },
  {
   "cell_type": "code",
   "execution_count": 10,
   "id": "f3f3cae1-1ebb-41dd-9fc7-610092eaf12c",
   "metadata": {},
   "outputs": [],
   "source": [
    "# function to produce calculated values for each specific attribute\n",
    "def agg_grp( grp_name ):\n",
    "    # produce calculated values for specific attribute\n",
    "    grp_max_rating = joined_df.groupby(grp_name)['max_rating_counter_party'].max()\n",
    "    grp_sum_arap = joined_df.loc[joined_df.status=='ARAP'].groupby(grp_name)['value'].sum().rename('total_sum_arap')\n",
    "    grp_sum_accr = joined_df.loc[joined_df.status=='ACCR'].groupby(grp_name)['value'].sum().rename('total_sum_accr')\n",
    "    # dataframe with distinct combinations specific attribute\n",
    "    grp_agg_df = joined_df[[grp_name]].drop_duplicates(keep='any')\n",
    "    # join calculated values to dataframe of specific attribute\n",
    "    grp_agg_df = grp_agg_df.join(grp_max_rating,on=grp_name)\n",
    "    grp_agg_df = grp_agg_df.join(grp_sum_arap,on=grp_name)\n",
    "    grp_agg_df = grp_agg_df.join(grp_sum_accr,on=grp_name)\n",
    "    grp_agg_df = grp_agg_df.replace(np.nan, 0) # impute NaNs with 0\n",
    "    return(grp_agg_df)"
   ]
  },
  {
   "cell_type": "code",
   "execution_count": 11,
   "id": "615ae666-a215-46c6-a035-ef0bfe3ad6fa",
   "metadata": {},
   "outputs": [],
   "source": [
    "# generate calculated values for each of legal entity, counterparty, tier and grand total\n",
    "legal_entity_agg_df = agg_grp('legal_entity')\n",
    "counter_party_agg_df = agg_grp('counter_party')\n",
    "tier_agg_df = agg_grp('tier')\n",
    "total_agg_df = agg_grp('total')\n",
    "# ib.collect(legal_entity_agg_df).sort_index()"
   ]
  },
  {
   "cell_type": "code",
   "execution_count": 12,
   "id": "acbf24ff-2432-49b3-973e-dce7ad6de787",
   "metadata": {},
   "outputs": [],
   "source": [
    "# combine all dataframes for desired output\n",
    "output_df = all_agg_df.append(legal_entity_agg_df).append(counter_party_agg_df).append(tier_agg_df).append(total_agg_df)\n",
    "output_df = output_df.replace(np.nan, 'Total') # impute NaNs with text 'Total'\n",
    "output_df = output_df.drop(columns='total') # drop column named total\n",
    "# ib.collect(output_df).sort_index()"
   ]
  },
  {
   "cell_type": "code",
   "execution_count": 13,
   "id": "d3bf2b0d-c6d3-4a58-9974-532c760a13ca",
   "metadata": {},
   "outputs": [
    {
     "data": {
      "text/plain": [
       "<PCollection[[13]: WriteToPandas(df) - output_beam.csv/WriteToFiles/ParDo(_MoveTempFilesIntoFinalDestinationFn).None] at 0x7f9276b9cbb0>"
      ]
     },
     "execution_count": 13,
     "metadata": {},
     "output_type": "execute_result"
    }
   ],
   "source": [
    "# generate required output file\n",
    "output_df.to_csv('output_beam.csv',index=False) "
   ]
  },
  {
   "cell_type": "code",
   "execution_count": 14,
   "id": "1a23f8c9-b878-4e9d-a5da-2090d4cf3ca1",
   "metadata": {},
   "outputs": [],
   "source": [
    "p.run().wait_until_finish() # run pipeline and wait for final state"
   ]
  }
 ],
 "metadata": {
  "kernelspec": {
   "display_name": "Python 3 (ipykernel)",
   "language": "python",
   "name": "python3"
  },
  "language_info": {
   "codemirror_mode": {
    "name": "ipython",
    "version": 3
   },
   "file_extension": ".py",
   "mimetype": "text/x-python",
   "name": "python",
   "nbconvert_exporter": "python",
   "pygments_lexer": "ipython3",
   "version": "3.9.7"
  }
 },
 "nbformat": 4,
 "nbformat_minor": 5
}
